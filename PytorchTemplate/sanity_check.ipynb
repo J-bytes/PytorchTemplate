{
 "cells": [
  {
   "cell_type": "code",
   "execution_count": 1,
   "metadata": {},
   "outputs": [],
   "source": [
    "import os\n",
    "import pandas as pd\n",
    "\n",
    "%matplotlib inline\n",
    "from torchvision import datasets\n",
    "from torchvision.transforms import ToTensor\n",
    "import matplotlib.pyplot as plt\n",
    "import torch\n",
    "import numpy as np\n",
    "from PIL import Image\n",
    "\n",
    "i=0"
   ]
  },
  {
   "cell_type": "markdown",
   "source": [
    "# Step 1 : Initiating the dataset\n",
    "\n",
    "Since we don't train the model, we only need one dataset"
   ],
   "metadata": {
    "collapsed": false
   }
  },
  {
   "cell_type": "code",
   "execution_count": 2,
   "metadata": {},
   "outputs": [
    {
     "name": "stdout",
     "output_type": "stream",
     "text": [
      "Files already downloaded and verified\n",
      "Files already downloaded and verified\n"
     ]
    }
   ],
   "source": [
    "from PytorchTemplate.datasets.cifar10 import cifar10\n",
    "names = [\"airplane\",\"automobile\",\"bird\",\"cat\",\"deer\",\"dog\",\"frog\",\"horse\",\"ship\",\"truck\"]\n",
    "mean = (0.485, 0.456, 0.406) # (0.4914, 0.4822, 0.4465), (0.247, 0.243, 0.261)\n",
    "std = (0.229, 0.224, 0.225)\n",
    "config = {\n",
    "    \"batch_size\" : 32,\n",
    "    \"valid_size\" : 0.1,\n",
    "    \"shuffle\" : True,\n",
    "    'num_workers' : 1,\n",
    "    'pin_memory' : True,\n",
    "    'mean' : mean,\n",
    "    'std' : std,\n",
    "    'root' : \"data\",\n",
    "    'debug' : False,\n",
    "    'prob' : [1,1,1],\n",
    "    'label_smoothing' : 0\n",
    "}\n",
    "train_loader,val_loader = cifar10(**config)"
   ]
  },
  {
   "cell_type": "markdown",
   "source": [
    "# Step 2 : Assert the dataloader is working ; Require the images on the device"
   ],
   "metadata": {
    "collapsed": false
   }
  },
  {
   "cell_type": "code",
   "execution_count": 13,
   "metadata": {},
   "outputs": [
    {
     "name": "stdout",
     "output_type": "stream",
     "text": [
      "torch.Size([3, 32, 32])\n",
      "cat\n"
     ]
    },
    {
     "data": {
      "text/plain": "<Figure size 640x480 with 1 Axes>",
      "image/png": "[encoded data removed]"
     },
     "metadata": {},
     "output_type": "display_data"
    }
   ],
   "source": [
    "\n",
    "image,label = train_loader.dataset[i]\n",
    "print(image.shape)\n",
    "\n",
    "\n",
    "plt.imshow(image.squeeze().permute(1,2,0).numpy())\n",
    "print(names[torch.argmax(label).item()])\n",
    "i+=1"
   ]
  },
  {
   "cell_type": "markdown",
   "source": [
    "# Step 2.2 : We can test the data augmentations !"
   ],
   "metadata": {
    "collapsed": false
   }
  },
  {
   "cell_type": "code",
   "execution_count": 4,
   "outputs": [
    {
     "name": "stdout",
     "output_type": "stream",
     "text": [
      "torch.Size([32, 3, 32, 32])\n",
      "ship\n",
      "tensor(-2.1179) tensor(2.6400)\n"
     ]
    },
    {
     "data": {
      "text/plain": "<Figure size 640x480 with 1 Axes>",
      "image/png": "[encoded data removed]"
     },
     "metadata": {},
     "output_type": "display_data"
    }
   ],
   "source": [
    "for images,labels in train_loader :\n",
    "    print(images.shape)\n",
    "    images,labels = train_loader.dataset.advanced_transform((images,labels))\n",
    "\n",
    "    break;\n",
    "\n",
    "print(names[torch.argmax(labels[0]).item()])\n",
    "plt.imshow(images[0].permute(1,2,0).numpy())\n",
    "assert torch.min(images)>=0 and torch.max(images)<=1\n",
    "normalized = train_loader.dataset.normalize(images)\n",
    "print(torch.min(normalized),torch.max(normalized))"
   ],
   "metadata": {
    "collapsed": false
   }
  },
  {
   "cell_type": "markdown",
   "source": [],
   "metadata": {
    "collapsed": false
   }
  },
  {
   "cell_type": "code",
   "execution_count": 5,
   "outputs": [
    {
     "ename": "NameError",
     "evalue": "name 'dataset' is not defined",
     "output_type": "error",
     "traceback": [
      "\u001B[0;31m---------------------------------------------------------------------------\u001B[0m",
      "\u001B[0;31mNameError\u001B[0m                                 Traceback (most recent call last)",
      "Cell \u001B[0;32mIn[5], line 1\u001B[0m\n\u001B[0;32m----> 1\u001B[0m data \u001B[38;5;241m=\u001B[39m np\u001B[38;5;241m.\u001B[39mconcatenate([\u001B[43mdataset\u001B[49m\u001B[38;5;241m.\u001B[39mcount\u001B[38;5;241m.\u001B[39mreshape((\u001B[38;5;241m1\u001B[39m,\u001B[38;5;241m18\u001B[39m)),dataset\u001B[38;5;241m.\u001B[39mcount\u001B[38;5;241m.\u001B[39mreshape((\u001B[38;5;241m1\u001B[39m,\u001B[38;5;241m18\u001B[39m))\u001B[38;5;241m/\u001B[39m\u001B[38;5;28mlen\u001B[39m(dataset)])\n\u001B[1;32m      2\u001B[0m data \u001B[38;5;241m=\u001B[39m pd\u001B[38;5;241m.\u001B[39mDataFrame(data,columns\u001B[38;5;241m=\u001B[39mnames,index\u001B[38;5;241m=\u001B[39m[\u001B[38;5;124m\"\u001B[39m\u001B[38;5;124mCount\u001B[39m\u001B[38;5;124m\"\u001B[39m,\u001B[38;5;124m\"\u001B[39m\u001B[38;5;124mRatio\u001B[39m\u001B[38;5;124m\"\u001B[39m])\n\u001B[1;32m      3\u001B[0m \u001B[38;5;28mprint\u001B[39m(data)\n",
      "\u001B[0;31mNameError\u001B[0m: name 'dataset' is not defined"
     ]
    }
   ],
   "source": [],
   "metadata": {
    "collapsed": false
   }
  },
  {
   "cell_type": "code",
   "execution_count": null,
   "outputs": [],
   "source": [],
   "metadata": {
    "collapsed": false
   }
  },
  {
   "cell_type": "markdown",
   "source": [],
   "metadata": {
    "collapsed": false
   }
  },
  {
   "cell_type": "code",
   "execution_count": null,
   "outputs": [],
   "source": [],
   "metadata": {
    "collapsed": false
   }
  },
  {
   "cell_type": "code",
   "execution_count": null,
   "outputs": [],
   "source": [],
   "metadata": {
    "collapsed": false
   }
  }
 ],
 "metadata": {
  "kernelspec": {
   "display_name": "Python 3 (ipykernel)",
   "language": "python",
   "name": "python3"
  },
  "language_info": {
   "codemirror_mode": {
    "name": "ipython",
    "version": 3
   },
   "file_extension": ".py",
   "mimetype": "text/x-python",
   "name": "python",
   "nbconvert_exporter": "python",
   "pygments_lexer": "ipython3",
   "version": "3.9.14"
  }
 },
 "nbformat": 4,
 "nbformat_minor": 1
}
